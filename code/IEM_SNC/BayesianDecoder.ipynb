{
 "cells": [
  {
   "cell_type": "markdown",
   "metadata": {},
   "source": [
    "# Van Bergen, Ma, Pratte, Jehee Baysian Decoder from: \n",
    "    \n",
    "* Van Bergen, R. S., Ma, W.J., Pratte, M.S. & Jehee, J.F.M. (2015). Sensory uncertainty decoded from visual cortex predicts behavior. Nature Neuroscience.\n",
    "\n",
    "* Tried to stick to conventions of Matlab code from Ruben Van Bergen (and tried to use similar variable names when possible)\n",
    "\n",
    "* One important change: I made the code a bit more flexible in terms of the span of the basis functions to accomodate modeling features like orientation over 180deg and modeling features like spatial position over 360 degrees. \n",
    "    "
   ]
  },
  {
   "cell_type": "code",
   "execution_count": 1,
   "metadata": {
    "ExecuteTime": {
     "end_time": "2019-05-28T19:51:03.285438Z",
     "start_time": "2019-05-28T19:51:03.231663Z"
    }
   },
   "outputs": [],
   "source": [
    "%reload_ext autoreload\n",
    "%autoreload 2"
   ]
  },
  {
   "cell_type": "code",
   "execution_count": 38,
   "metadata": {
    "ExecuteTime": {
     "end_time": "2019-05-28T20:08:12.624550Z",
     "start_time": "2019-05-28T20:08:12.572958Z"
    }
   },
   "outputs": [],
   "source": [
    "# import modules \n",
    "import numpy as np\n",
    "import matplotlib.pyplot as plt\n",
    "from DecodeSNC_CViter import DecodeSNC_CViter #NB: if error \"No Modules named 'past'\" must install 'future' eg. pip install future\n",
    "import sys\n",
    "sys.path.append(\".\")"
   ]
  },
  {
   "cell_type": "markdown",
   "metadata": {},
   "source": [
    "### Dictionary object to store stim and analysis info for passing between functions. Stand in for Ruben's p structure.\n",
    "* Set up with some defaults here, and can then populate with listed fields OR will populate in gen_test_data function when running in test mode"
   ]
  },
  {
   "cell_type": "code",
   "execution_count": 6,
   "metadata": {
    "ExecuteTime": {
     "end_time": "2019-05-28T19:49:19.358474Z",
     "start_time": "2019-05-28T19:49:19.334702Z"
    }
   },
   "outputs": [],
   "source": [
    "# \"runNs\" : xx, \"test_trials\" : xx, \"stimfeat\" : xx\n",
    "p = {\"nchans\" : 8, \"span\" : 180, \"ninit\" : 20, \"sig_guess\" : 0.5, \"tau_guess\" : 0.7, \"rho_guess\" : 0.1}"
   ]
  },
  {
   "cell_type": "markdown",
   "metadata": {},
   "source": [
    "### Now start a cross-val loop to train the model and decode test data - this is like the DecodeCV matlab function from Ruben"
   ]
  },
  {
   "cell_type": "code",
   "execution_count": 45,
   "metadata": {
    "ExecuteTime": {
     "end_time": "2019-05-28T18:58:04.621266Z",
     "start_time": "2019-05-28T18:58:04.577658Z"
    }
   },
   "outputs": [],
   "source": [
    "# load functions...\n",
    "# %run -i \"DecodeSNC_CViter.py\"\n",
    "# %run -i \"fun_minLL_norm.py\"\n",
    "# %run -i \"invSNC.py\"\n",
    "# %run -i \"minimizeNLCG.py\"\n",
    "# %run -i \"my_logdet.py\"\n",
    "# %run -i \"EstimateSNC.py\"\n",
    "# %run -i \"MatProdTrace.py\""
   ]
  },
  {
   "cell_type": "code",
   "execution_count": 7,
   "metadata": {
    "ExecuteTime": {
     "end_time": "2019-05-28T19:49:29.944884Z",
     "start_time": "2019-05-28T19:49:29.863248Z"
    }
   },
   "outputs": [],
   "source": [
    "from scipy.io import loadmat\n",
    "dat = loadmat('dat_trySNC.mat') "
   ]
  },
  {
   "cell_type": "code",
   "execution_count": 8,
   "metadata": {
    "ExecuteTime": {
     "end_time": "2019-05-28T19:49:30.664581Z",
     "start_time": "2019-05-28T19:49:30.638835Z"
    }
   },
   "outputs": [],
   "source": [
    "samples = dat['dat']['samples'][0,0]\n",
    "runNs = np.concatenate(dat['dat'][0,0][1][0,0][0])\n",
    "stimfeat = np.concatenate(dat['dat'][0,0][1][0,0][1])\n",
    "p['samples'] = samples\n",
    "p['runNs'] = runNs\n",
    "p['stimfeat'] = stimfeat"
   ]
  },
  {
   "cell_type": "code",
   "execution_count": 42,
   "metadata": {
    "ExecuteTime": {
     "end_time": "2019-05-28T20:08:25.601704Z",
     "start_time": "2019-05-28T20:08:14.465535Z"
    },
    "scrolled": false
   },
   "outputs": [
    {
     "name": "stderr",
     "output_type": "stream",
     "text": [
      "/mnt/neurocube/home/tsheehan/py_code/IEM_SNC/invSNC.py:69: RuntimeWarning: invalid value encountered in log\n",
      "  ld = my_logdet(csr_matrix(np.eye(nchans)) + float(sig**2) * WtDiW, 'lu') + np.log(1 + rho*nvox*alpha) + nvox*np.log(1-rho) + 2*np.sum(np.log(tau))\n",
      "/mnt/neurocube/home/tsheehan/py_code/IEM_SNC/invSNC.py:59: RuntimeWarning: invalid value encountered in log\n",
      "  ld = my_logdet(csr_matrix(np.eye(nchans)) + float(sig**2) * WtDiW, 'chol') + np.log(1 + rho*nvox*alpha) + nvox*np.log(1-rho) + 2*np.sum(np.log(tau))  # verified TS 5/27\n",
      "/mnt/neurocube/home/tsheehan/py_code/IEM_SNC/invSNC.py:100: RuntimeWarning: invalid value encountered in log\n",
      "  d = np.log(c) + np.sum(np.log(np.abs(diag_upper)), axis = 0)\n",
      "/mnt/neurocube/home/tsheehan/py_code/IEM_SNC/fun_minLL_norm.py:61: RuntimeWarning: invalid value encountered in sqrt\n",
      "  der[nvox] = 2 * sig * MatProdTrace(W.T @ omi, W) - np.sum(np.sum(np.power((U.T * float(np.sqrt(2*sig)) @ W),2))) # TS: good\n"
     ]
    },
    {
     "name": "stdout",
     "output_type": "stream",
     "text": [
      "0 Complete\n",
      "Failed: 1\n",
      "1 Complete\n",
      "2 Complete\n",
      "3 Complete\n",
      "4 Complete\n",
      "5 Complete\n",
      "6 Complete\n",
      "Failed: 1\n",
      "Failed: 2\n",
      "7 Complete\n",
      "8 Complete\n",
      "9 Complete\n",
      "10 Complete\n",
      "11 Complete\n",
      "12 Complete\n"
     ]
    }
   ],
   "source": [
    "# set up a few variables here for dealing with LOO-CV\n",
    "runs = np.unique(p[\"runNs\"])\n",
    "est = np.full(p[\"runNs\"].shape, np.nan)\n",
    "unc = np.full(p[\"runNs\"].shape, np.nan)\n",
    "\n",
    "# list comprehension to make list of dictionaries to store output of 'EstimateSNC'\n",
    "# Pest = [{\"tau\" : 0, \"sig\" : 0,\"rho\" : 0,\"corr\" : 0} for i in range(0,len(runs))]\n",
    "Pest=[]\n",
    "# note: access a given field in each dict in Pest with: [item[\"rho\"] for item in Pest]\n",
    "\n",
    "# note: default to start on first run, but if implement HPC then update this\n",
    "start_idx = 0 # used internally by DecodeSNC\n",
    "\n",
    "# loop and train/test\n",
    "for testrun_idx in np.arange(start_idx,len(runs)):\n",
    "    # Note: Ruben's code made a copy of 'p' and passed that. I'm just going to update the \n",
    "    # \"test_trials\" entry of p and pass it directly...\n",
    "    \n",
    "    # figure out the test trials on this fold - all trials except those that are \n",
    "    # from the current run\n",
    "    p[\"test_trials\"] = (p[\"runNs\"]==runs[testrun_idx])\n",
    "\n",
    "    # do iteration of the LOO-CV\" decoding procedure\n",
    "    OUT = DecodeSNC_CViter(p[\"samples\"], p);  \n",
    "    est[p[\"test_trials\"]], unc[p[\"test_trials\"]],out  = OUT\n",
    "    Pest.append(out)\n",
    "    print(testrun_idx,'Complete')"
   ]
  },
  {
   "cell_type": "code",
   "execution_count": 33,
   "metadata": {},
   "outputs": [
    {
     "name": "stderr",
     "output_type": "stream",
     "text": [
      "/mnt/neurocube/home/tsheehan/py_code/IEM_SNC/invSNC.py:69: RuntimeWarning: invalid value encountered in log\n",
      "  ld = my_logdet(csr_matrix(np.eye(nchans)) + float(sig**2) * WtDiW, 'lu') + np.log(1 + rho*nvox*alpha) + nvox*np.log(1-rho) + 2*np.sum(np.log(tau))\n",
      "/mnt/neurocube/home/tsheehan/py_code/IEM_SNC/invSNC.py:59: RuntimeWarning: invalid value encountered in log\n",
      "  ld = my_logdet(csr_matrix(np.eye(nchans)) + float(sig**2) * WtDiW, 'chol') + np.log(1 + rho*nvox*alpha) + nvox*np.log(1-rho) + 2*np.sum(np.log(tau))  # verified TS 5/27\n",
      "/mnt/neurocube/home/tsheehan/py_code/IEM_SNC/invSNC.py:100: RuntimeWarning: invalid value encountered in log\n",
      "  d = np.log(c) + np.sum(np.log(np.abs(diag_upper)), axis = 0)\n"
     ]
    }
   ],
   "source": [
    "OUT = DecodeSNC_CViter(p[\"samples\"], p);  "
   ]
  },
  {
   "cell_type": "code",
   "execution_count": 56,
   "metadata": {
    "ExecuteTime": {
     "end_time": "2019-05-28T20:10:36.476300Z",
     "start_time": "2019-05-28T20:10:36.118942Z"
    }
   },
   "outputs": [
    {
     "data": {
      "image/png": "[encoded data removed]",
      "text/plain": [
       "<Figure size 432x288 with 1 Axes>"
      ]
     },
     "metadata": {},
     "output_type": "display_data"
    },
    {
     "data": {
      "image/png": "[encoded data removed]",
      "text/plain": [
       "<Figure size 432x288 with 1 Axes>"
      ]
     },
     "metadata": {},
     "output_type": "display_data"
    }
   ],
   "source": [
    "use = ~np.isnan(unc)\n",
    "est_use = est[use]\n",
    "unc_use = unc[use]\n",
    "stimfeat_use = stimfeat[use]\n",
    "\n",
    "plt.hist(unc_use)\n",
    "plt.show()\n",
    "good= unc_use<np.median(unc_use)\n",
    "plt.plot(stimfeat_use[good],est_use[good],'m.')\n",
    "plt.plot(stimfeat_use[~good],est_use[~good],'k.')\n",
    "\n",
    "plt.xlabel('Stim Angle')\n",
    "plt.ylabel('Recon Angle')\n",
    "plt.legend(('Low Uncertainty','High Uncertainty'))\n",
    "cc_good=np.corrcoef(stimfeat_use[good],est_use[good])[1,0]\n",
    "cc_poor=np.corrcoef(stimfeat_use[~good],est_use[~good])[1,0]\n",
    "plt.title('$p$-good:%.2f, $p$-poor:%.2f' %(cc_good,cc_poor))\n",
    "plt.show()"
   ]
  },
  {
   "cell_type": "code",
   "execution_count": 58,
   "metadata": {},
   "outputs": [
    {
     "data": {
      "text/plain": [
       "[<matplotlib.lines.Line2D at 0x7faf101b33c8>]"
      ]
     },
     "execution_count": 58,
     "metadata": {},
     "output_type": "execute_result"
    },
    {
     "data": {
      "image/png": "[encoded data removed]",
      "text/plain": [
       "<Figure size 432x288 with 1 Axes>"
      ]
     },
     "metadata": {},
     "output_type": "display_data"
    }
   ],
   "source": [
    "plt.plot(stimfeat,unc,'k.')"
   ]
  },
  {
   "cell_type": "code",
   "execution_count": null,
   "metadata": {},
   "outputs": [],
   "source": []
  }
 ],
 "metadata": {
  "kernelspec": {
   "display_name": "Python 3",
   "language": "python",
   "name": "python3"
  },
  "language_info": {
   "codemirror_mode": {
    "name": "ipython",
    "version": 3
   },
   "file_extension": ".py",
   "mimetype": "text/x-python",
   "name": "python",
   "nbconvert_exporter": "python",
   "pygments_lexer": "ipython3",
   "version": "3.6.5"
  }
 },
 "nbformat": 4,
 "nbformat_minor": 2
}
